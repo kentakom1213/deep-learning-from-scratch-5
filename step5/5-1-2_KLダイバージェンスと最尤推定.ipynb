{
 "cells": [
  {
   "cell_type": "markdown",
   "metadata": {},
   "source": [
    "## KL ダイバージェンスと最尤推定の関係\n",
    "\n",
    "> **パラメータの最尤推定**\n",
    "> \n",
    "> - 入力\n",
    ">   - 真の確率分布 $p_\\ast (x)$ から生成された $N$ 個のサンプル $\\{x^{(1)},x^{(2)},\\ldots,x^{(N)}\\}$\n",
    ">   - パラメータ $\\theta$ で調整できる確率分布 $p_\\theta(x)$\n",
    "> - 出力\n",
    ">   - $p_\\theta(x)$ が $p_\\ast(x)$ に最も近づくような $\\theta$ の値\n",
    "\n",
    "最尤推定では，以下の対数尤度を目的関数とする．\n",
    "\n",
    "$$\n",
    "\\log \\prod_{n = 1}^N p_\\theta (x^{(n)}) = \\sum_{n = 1}^N \\log p_\\theta(x^{(n)})\n",
    "$$\n",
    "\n",
    "この対数尤度を最大化するパラメータを以下のように表記する．\n",
    "\n",
    "$$\n",
    "\\hat{\\theta} = \\underset{\\theta}{\\mathrm{argmax}} \\sum_{n = 1}^N \\log p_\\theta(x^{(n)})\n",
    "$$\n",
    "\n",
    "ここで，「$p_\\theta(x)$ を $p_\\ast(x)$ に近づける」は，\n",
    "「$p_\\theta(x)$ と $p_\\ast(x)$ の KL ダイバージェンスを最小にする」と言い換えられる．\n",
    "\n",
    "すなわち，\n",
    "\n",
    "$$\n",
    "D_\\mathrm{KL}(p_\\ast || p_\\theta) = \\int p_\\ast(x) \\log \\frac{p_\\ast(x)}{p_\\theta(x)} dx\n",
    "$$\n",
    "\n",
    "を最小にするような $\\theta$ を求められればよい．\n",
    "\n",
    "しかし，$p_\\ast$ が未知である以上，実際に積分計算を行うことはできない…\n",
    "\n",
    "そこで，**モンテカルロ法**を用いて近似的に求めることを考える．\n"
   ]
  },
  {
   "cell_type": "markdown",
   "metadata": {},
   "source": [
    "### モンテカルロ法を用いた期待値の近似\n",
    "\n",
    "確率分布 $p(x)$ に対する任意の関数 $f(x)$ の期待値 $\\mathbb{E}_{p(x)}[f(x)]$ を以下のように定義する．\n",
    "\n",
    "$$\n",
    "\\mathbb{E}_{p(x)}[f(x)] = \\int p(x)f(x) dx\n",
    "$$\n",
    "\n",
    "#### 近似のアルゴリズム\n",
    "\n",
    "> 1. 確率分布 $p(x)$ からサンプル $\\{x^{(1)}, x^{(2)}, \\ldots, x^{(N)}\\}$ を生成する\n",
    "> 2. 各データ $x^{(i)}$ における $f(x^{(i)})$ を求め，その平均を計算する．\n"
   ]
  },
  {
   "cell_type": "markdown",
   "metadata": {},
   "source": [
    "#### 実験してみる\n",
    "\n",
    "$$\n",
    "\\begin{align*}\n",
    "    p(x) &= \\frac{1}{\\sqrt{2\\pi}} \\exp\\left(-\\frac{x^2}{2}\\right)\\\\[10pt]\n",
    "    f(x) &= x\\\\[10pt]\n",
    "    g(x) &= x + 1\n",
    "\\end{align*}\n",
    "$$\n",
    "\n",
    "##### 積分結果\n",
    "\n",
    "解析的に計算すると，\n",
    "\n",
    "$$\n",
    "\\begin{align*}\n",
    "    \\mathbb{E}_{p(x)}[f(x)]\n",
    "    &= \\int_{-\\infty}^\\infty p(x)f(x) ~dx\\\\[10pt]\n",
    "    &= \\int_{-\\infty}^\\infty \\frac{x}{\\sqrt{2\\pi}} e^{-x^2 / 2} ~dx\\\\[10pt]\n",
    "    &= -\\frac{1}{\\sqrt{2\\pi}} \\left[ e^{-x^2 / 2} \\right]_{-\\infty}^\\infty\\\\[10pt]\n",
    "    &= 0\\\\[20pt]\n",
    "    \\mathbb{E}_{p(x)}[g(x)]\n",
    "    &= \\int_{-\\infty}^\\infty p(x)g(x) ~dx\\\\[10pt]\n",
    "    &= \\int_{-\\infty}^\\infty \\frac{x}{\\sqrt{2\\pi}} e^{-x^2 / 2} ~dx + \\int_{-\\infty}^\\infty \\frac{1}{\\sqrt{2\\pi}} e^{-x^2 / 2} ~dx\\\\[10pt]\n",
    "    &= 0 + 1 = 1\n",
    "\\end{align*}\n",
    "$$\n"
   ]
  },
  {
   "cell_type": "code",
   "execution_count": 2,
   "metadata": {
    "vscode": {
     "languageId": "rust"
    }
   },
   "outputs": [],
   "source": [
    ":dep rand = \"0.8.5\"\n",
    ":dep rand_distr = \"0.4.3\""
   ]
  },
  {
   "cell_type": "code",
   "execution_count": 3,
   "metadata": {
    "vscode": {
     "languageId": "rust"
    }
   },
   "outputs": [],
   "source": [
    "use rand::prelude::*;\n",
    "use rand_distr::Normal;"
   ]
  },
  {
   "cell_type": "code",
   "execution_count": 4,
   "metadata": {
    "vscode": {
     "languageId": "rust"
    }
   },
   "outputs": [],
   "source": [
    "// 乱数生成器を初期化\n",
    "let mut rng = thread_rng();\n",
    "\n",
    "// 標準正規分布\n",
    "let std_normal = Normal::new(0.0, 1.0).unwrap();\n",
    "\n",
    "// サンプリング回数\n",
    "const NUM: usize = 50000;"
   ]
  },
  {
   "cell_type": "code",
   "execution_count": 5,
   "metadata": {
    "vscode": {
     "languageId": "rust"
    }
   },
   "outputs": [],
   "source": [
    "fn f(x: f64) -> f64 {\n",
    "    x\n",
    "}\n",
    "\n",
    "fn g(x: f64) -> f64 {\n",
    "    x + 1.0\n",
    "}"
   ]
  },
  {
   "cell_type": "code",
   "execution_count": 6,
   "metadata": {
    "vscode": {
     "languageId": "rust"
    }
   },
   "outputs": [
    {
     "data": {
      "text/plain": [
       "-0.0005952278388999247"
      ]
     },
     "execution_count": 6,
     "metadata": {},
     "output_type": "execute_result"
    }
   ],
   "source": [
    "// fの期待値\n",
    "let exp_f = std_normal\n",
    "    .sample_iter(&mut rng)\n",
    "    .take(NUM)\n",
    "    .map(f)\n",
    "    .sum::<f64>() / NUM as f64;\n",
    "\n",
    "exp_f"
   ]
  },
  {
   "cell_type": "code",
   "execution_count": 7,
   "metadata": {
    "vscode": {
     "languageId": "rust"
    }
   },
   "outputs": [
    {
     "data": {
      "text/plain": [
       "0.9985557292925885"
      ]
     },
     "execution_count": 7,
     "metadata": {},
     "output_type": "execute_result"
    }
   ],
   "source": [
    "// gの期待値\n",
    "let exp_g = std_normal\n",
    "    .sample_iter(&mut rng)\n",
    "    .take(NUM)\n",
    "    .map(g)\n",
    "    .sum::<f64>() / NUM as f64;\n",
    "\n",
    "exp_g"
   ]
  },
  {
   "cell_type": "markdown",
   "metadata": {},
   "source": [
    "モンテカルロ法なので精度は低いが，理論値である以下の値にある程度近づいていることがわかる．\n",
    "\n",
    "- $\\mathbb{E}_{p(x)}[f(x)] = 0$\n",
    "- $\\mathbb{E}_{p(x)}[g(x)] = 1$"
   ]
  }
 ],
 "metadata": {
  "kernelspec": {
   "display_name": "Rust",
   "language": "rust",
   "name": "rust"
  },
  "language_info": {
   "codemirror_mode": "rust",
   "file_extension": ".rs",
   "mimetype": "text/rust",
   "name": "Rust",
   "pygment_lexer": "rust",
   "version": ""
  }
 },
 "nbformat": 4,
 "nbformat_minor": 2
}
