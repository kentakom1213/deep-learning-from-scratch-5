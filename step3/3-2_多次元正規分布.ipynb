{
 "cells": [
  {
   "cell_type": "markdown",
   "metadata": {},
   "source": [
    "## 多次元正規分布"
   ]
  },
  {
   "cell_type": "code",
   "execution_count": 2,
   "metadata": {
    "vscode": {
     "languageId": "rust"
    }
   },
   "outputs": [],
   "source": [
    ":dep ndarray = { version = \"0.15.6\" }\n",
    ":dep ndarray-linalg = { version = \"0.16.0\", features = [\"openblas\"] }"
   ]
  },
  {
   "cell_type": "code",
   "execution_count": 6,
   "metadata": {
    "vscode": {
     "languageId": "rust"
    }
   },
   "outputs": [],
   "source": [
    "use ndarray::{Array, ArrayView, array, s};\n",
    "use ndarray_linalg::{Determinant, Inverse};"
   ]
  },
  {
   "cell_type": "code",
   "execution_count": 22,
   "metadata": {
    "vscode": {
     "languageId": "rust"
    }
   },
   "outputs": [],
   "source": [
    ":dep myml = { path = \"../myml\" }"
   ]
  },
  {
   "cell_type": "code",
   "execution_count": 23,
   "metadata": {
    "vscode": {
     "languageId": "rust"
    }
   },
   "outputs": [],
   "source": [
    "use myml::normal::multivariate_normal;"
   ]
  },
  {
   "cell_type": "code",
   "execution_count": 28,
   "metadata": {
    "vscode": {
     "languageId": "rust"
    }
   },
   "outputs": [
    {
     "data": {
      "text/plain": [
       "Some([0.013064233284684921, 0.013064233284684921], shape=[2], strides=[1], layout=CFcf (0xf), const ndim=1)"
      ]
     },
     "execution_count": 28,
     "metadata": {},
     "output_type": "execute_result"
    }
   ],
   "source": [
    "// 多変量正規分布\n",
    "let x = array![0.0, 0.0];\n",
    "let mu = array![1.0, 2.0];\n",
    "let cov = array![\n",
    "    [1.0, 0.0],\n",
    "    [0.0, 1.0]\n",
    "];\n",
    "\n",
    "multivariate_normal(x.view(), mu.view(), cov.view())"
   ]
  }
 ],
 "metadata": {
  "kernelspec": {
   "display_name": "Rust",
   "language": "rust",
   "name": "rust"
  },
  "language_info": {
   "codemirror_mode": "rust",
   "file_extension": ".rs",
   "mimetype": "text/rust",
   "name": "Rust",
   "pygment_lexer": "rust",
   "version": ""
  }
 },
 "nbformat": 4,
 "nbformat_minor": 2
}
